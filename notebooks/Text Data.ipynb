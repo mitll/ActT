{
 "cells": [
  {
   "cell_type": "code",
   "execution_count": 1,
   "metadata": {},
   "outputs": [],
   "source": [
    "# Necessary imports\n",
    "import warnings\n",
    "warnings.filterwarnings('ignore')\n",
    "import re\n",
    "import os\n",
    "import numpy as np\n",
    "import scipy as sp\n",
    "from scipy.sparse import csr_matrix\n",
    "from sklearn import datasets\n",
    "from sklearn.feature_extraction.text import CountVectorizer\n",
    "from sklearn.feature_extraction.text import TfidfTransformer\n",
    "from sklearn.naive_bayes import MultinomialNB\n",
    "from active_tester import ActiveTester\n",
    "from active_tester.estimators.learned import Learned\n",
    "from active_tester.estimators.naive import Naive\n",
    "from active_tester.query_strategy.noisy_label_uncertainty import LabelUncertainty\n",
    "from active_tester.query_strategy.classifier_uncertainty import ClassifierUncertainty\n",
    "from active_tester.query_strategy.MCM import MCM\n",
    "from active_tester.query_strategy.random import Random\n",
    "from sklearn.metrics import accuracy_score\n",
    "from active_tester.label_estimation.methods import oracle_one_label, no_oracle, oracle_multiple_labels"
   ]
  },
  {
   "cell_type": "markdown",
   "metadata": {},
   "source": [
    "# Active Testing Using Text Data "
   ]
  },
  {
   "cell_type": "markdown",
   "metadata": {},
   "source": [
    "This is an example of using the ActT library with a text dataset. To walk through this example, download __[a sentiment analysis dataset](https://archive.ics.uci.edu/ml/machine-learning-databases/00331/)__ from the UCI machine learning repository and place the contents in the text_data directory. Additionally, this tutorial follows Scikit Learn's steps on __[Working with Text Data](https://scikit-learn.org/stable/tutorial/text_analytics/working_with_text_data.html)__. Before we employ ActT, using the example dataset, we must preprocess the data to create textfiles for each sentence and to divide the dataset into a train and test set."
   ]
  },
  {
   "cell_type": "markdown",
   "metadata": {},
   "source": [
    "## Data Processing\n",
    "\n",
    "Using the preprocessing scripts below, we will combine all of the files into one file containing all 3000 sentence. Then, we will separate the sentences into a test and training set containing the individual sentences as files, then place them in their respective class folders. \n",
    "\n",
    "After the dataset is created, set `create_datasets` to `False` to avoid creating duplicate files."
   ]
  },
  {
   "cell_type": "code",
   "execution_count": 2,
   "metadata": {},
   "outputs": [],
   "source": [
    "create_datasets = False\n",
    "# get rid of temporary files inserted to preserve directory structure\n",
    "if create_datasets:\n",
    "    myfile = 'text_data/temp.txt'\n",
    "    if os.path.isfile(myfile):\n",
    "        os.remove(myfile)\n",
    "    myfile = 'train/positive/temp.txt'\n",
    "    if os.path.isfile(myfile):\n",
    "        os.remove(myfile)\n",
    "    myfile = 'train/negative/temp.txt'\n",
    "    if os.path.isfile(myfile):\n",
    "        os.remove(myfile)\n",
    "    myfile = 'test/positive/temp.txt'\n",
    "    if os.path.isfile(myfile):\n",
    "        os.remove(myfile)\n",
    "    myfile = 'test/negative/temp.txt'\n",
    "    if os.path.isfile(myfile):\n",
    "        os.remove(myfile)"
   ]
  },
  {
   "cell_type": "code",
   "execution_count": 3,
   "metadata": {},
   "outputs": [],
   "source": [
    "if create_datasets:\n",
    "    #Combine all sentence files into one file\n",
    "    try:\n",
    "        sentences = open('sentences.txt', 'a')\n",
    "       #Renamed files with dashes\n",
    "        filenames = ['text_data/imdb_labelled.txt', \n",
    "                    'text_data/amazon_cells_labelled.txt', \n",
    "                    'text_data/yelp_labelled.txt']\n",
    "        for filename in filenames:\n",
    "            print(filename)\n",
    "            with open(filename) as file:\n",
    "                for line in file:\n",
    "                    line = line.rstrip()\n",
    "                    sentences.write(line + '\\n')\n",
    "    except Exception:\n",
    "        print('File not found')"
   ]
  },
  {
   "cell_type": "code",
   "execution_count": 4,
   "metadata": {},
   "outputs": [],
   "source": [
    "if create_datasets:\n",
    "    #Separate sentences into a test and training set\n",
    "    #Write each sentence to a file and place that file in its respective class folder\n",
    "    filename = 'sentences.txt'\n",
    "    with open(filename) as file:\n",
    "        count = 1\n",
    "        for line in file:\n",
    "            if count <= 2000:\n",
    "                line = line.rstrip()\n",
    "                if line[-1:] == '0':\n",
    "                    input_file = open('train/negative/inputfile-' + str(count) + '.txt', 'a')\n",
    "                    line = line[:-1]\n",
    "                    line = line.rstrip()\n",
    "                    input_file.write(line)\n",
    "                if line[-1:] == '1':\n",
    "                    input_file = open('train/positive/inputfile-' + str(count) + '.txt', 'a')\n",
    "                    line = line[:-1]\n",
    "                    line = line.rstrip()\n",
    "                    input_file.write(line)\n",
    "            if count > 2000:\n",
    "                line = line.rstrip()\n",
    "                if line[-1:] == '0':\n",
    "                    input_file = open('test/negative/inputfile-' + str(count) + '.txt', 'a')\n",
    "                    line = line[:-1]\n",
    "                    line = line.rstrip()\n",
    "                    input_file.write(line)\n",
    "                if line[-1:] == '1':\n",
    "                    input_file = open('test/positive/inputfile-' + str(count) + '.txt', 'a')\n",
    "                    line = line[:-1]\n",
    "                    line = line.rstrip()\n",
    "                    input_file.write(line)\n",
    "            count = count + 1"
   ]
  },
  {
   "cell_type": "markdown",
   "metadata": {},
   "source": [
    "## Loading Data and Training a Model"
   ]
  },
  {
   "cell_type": "markdown",
   "metadata": {},
   "source": [
    "Below, we load the training data, create term frequency features, and then fit a classifier to the data."
   ]
  },
  {
   "cell_type": "code",
   "execution_count": 5,
   "metadata": {},
   "outputs": [],
   "source": [
    "#Load training data from files\n",
    "categories = ['positive', 'negative']\n",
    "sent_data = datasets.load_files(container_path='train', categories=categories, shuffle=True)\n",
    "X_train, y_train = sent_data.data, sent_data.target\n",
    "\n",
    "#Extract features\n",
    "count_vect = CountVectorizer()\n",
    "X_train_counts = count_vect.fit_transform(X_train)\n",
    "\n",
    "#Transform occurance matrix to a frequency matrix\n",
    "tf_transformer = TfidfTransformer(use_idf=False).fit(X_train_counts)\n",
    "X_train_tf = tf_transformer.transform(X_train_counts)\n",
    "\n",
    "#Build a classifier\n",
    "clf = MultinomialNB().fit(X_train_tf, sent_data.target)"
   ]
  },
  {
   "cell_type": "markdown",
   "metadata": {},
   "source": [
    "Now, we transform the test dataset to use the same features, apply the classifier to the test dataset and compute the classifier's true accuracy. "
   ]
  },
  {
   "cell_type": "code",
   "execution_count": 6,
   "metadata": {},
   "outputs": [],
   "source": [
    "#Load the test data from files\n",
    "sent_data_test = datasets.load_files(container_path='test', categories=categories, shuffle=False)\n",
    "X_test, y_test = sent_data_test.data, sent_data_test.target\n",
    "\n",
    "#Extract features\n",
    "X_test_counts = count_vect.transform(sent_data_test.data)\n",
    "\n",
    "#Transform occurance matrix to a frequency matrix\n",
    "X_test_tf = tf_transformer.transform(X_test_counts)\n",
    "\n",
    "#Compute the true accuracy of the classifier\n",
    "label_predictions = clf.predict(X_test_tf)\n",
    "true_accuracy = accuracy_score(y_test, label_predictions)"
   ]
  },
  {
   "cell_type": "markdown",
   "metadata": {},
   "source": [
    "## Using Active Tester\n",
    "\n",
    "The following code creates a set of noisy labels, reshapes the true labels, and converts the test features to a dense array."
   ]
  },
  {
   "cell_type": "code",
   "execution_count": 7,
   "metadata": {},
   "outputs": [],
   "source": [
    "#Initialize key variables: X, Y_noisy, and vetted\n",
    "Y_noisy = []\n",
    "noisy_label_accuracy = 0.75\n",
    "for i in range(len(y_test)):\n",
    "    if np.random.rand() < noisy_label_accuracy:\n",
    "        # noisy label is correct\n",
    "        Y_noisy.append(y_test[i])\n",
    "    else:\n",
    "        # noisy label is incorrect\n",
    "        Y_noisy.append(np.random.choice(np.delete(np.arange(2),y_test[i])))\n",
    "Y_noisy = np.asarray(Y_noisy, dtype=int)\n",
    "#Note that if your y_noisy array is shape (L,), you will need to reshape it to be (L,1)\n",
    "Y_noisy = np.reshape(Y_noisy,(len(Y_noisy),1))\n",
    "\n",
    "Y_ground_truth = np.reshape(y_test, (len(y_test), 1))\n",
    "\n",
    "#Note that if using sklearn's transformer, you may recieve an error about a sparse\n",
    "#matrix. Using scipy's sparse csr_matrix.toarray() method can resolve this issue\n",
    "X = csr_matrix.toarray(X_test_tf)"
   ]
  },
  {
   "cell_type": "markdown",
   "metadata": {},
   "source": [
    "Now to display the sentences to the vetter in an interactive session, we need to create a list of all the test data files.  This will serve as raw input to the `query_vetted` method of `active_tester`.  "
   ]
  },
  {
   "cell_type": "code",
   "execution_count": 8,
   "metadata": {},
   "outputs": [],
   "source": [
    "#Create a list with all of the test data files to serve as the raw input to query vetted\n",
    "file_list = []\n",
    "sentence_dirs = os.path.join(os.getcwd(),'test')\n",
    "for root, dirs, files in os.walk(sentence_dirs):\n",
    "    for name in files:\n",
    "        if name.endswith('.txt'):\n",
    "            local_path = os.path.join(root, name)\n",
    "            file_list.append(os.path.join(sentence_dirs, local_path))"
   ]
  },
  {
   "cell_type": "markdown",
   "metadata": {},
   "source": [
    "Now, we are ready to estimate the performance of the classifier by querying the oracle."
   ]
  },
  {
   "cell_type": "code",
   "execution_count": 9,
   "metadata": {
    "scrolled": false
   },
   "outputs": [
    {
     "name": "stdout",
     "output_type": "stream",
     "text": [
      "There may be a mismatch between the ordering of the vetted labels and the items. Please set rearragne to False\n",
      "Beginning preprocessing to find vetted labels of each class...\n",
      "\"\n",
      "Great place to relax and have an awesome burger and beer.\n",
      "\"\n",
      "\n",
      "\n",
      "The available labels are: ['negative', 'positive']\n",
      "Label the provided item: positive\n",
      "\n",
      "\n",
      "\"\n",
      "The grilled chicken was so tender and yellow from the saffron seasoning.\n",
      "\"\n",
      "\n",
      "\n",
      "The available labels are: ['negative', 'positive']\n",
      "Label the provided item: positive\n",
      "\n",
      "\n",
      "\"\n",
      "Some highlights : Great quality nigiri here!\n",
      "\"\n",
      "\n",
      "\n",
      "The available labels are: ['negative', 'positive']\n",
      "Label the provided item: positive\n",
      "\n",
      "\n",
      "\"\n",
      "Stopped by this place while in Madison for the Ironman, very friendly, kind staff.\n",
      "\"\n",
      "\n",
      "\n",
      "The available labels are: ['negative', 'positive']\n",
      "Label the provided item: positive\n",
      "\n",
      "\n",
      "\"\n",
      "Very convenient, since we were staying at the MGM!\n",
      "\"\n",
      "\n",
      "\n",
      "The available labels are: ['negative', 'positive']\n",
      "Label the provided item: positive\n",
      "\n",
      "\n",
      "Completed preprocessing\n",
      "Budget reduced from \"5\" to \"0\"\n"
     ]
    }
   ],
   "source": [
    "#Active Tester with a Naive Estimator, Classifier Uncertainty Query Method, and Interactive Query Vetting\n",
    "budget = 5\n",
    "\n",
    "active_test = ActiveTester(Naive(metric=accuracy_score), \n",
    "                                         ClassifierUncertainty())\n",
    "active_test.standardize_data(X=X, \n",
    "                             classes=sent_data.target_names,\n",
    "                             Y_noisy=Y_noisy)\n",
    "\n",
    "active_test.gen_model_predictions(clf)\n",
    "active_test.query_vetted(True, budget, raw=file_list)\n",
    "active_test.test()\n",
    "results = active_test.get_test_results()"
   ]
  },
  {
   "cell_type": "code",
   "execution_count": 10,
   "metadata": {},
   "outputs": [
    {
     "name": "stdout",
     "output_type": "stream",
     "text": [
      "Test metric with budget of 5 :  0.6368715083798883\n",
      "True accuracy of classifier:  0.7620111731843575\n"
     ]
    }
   ],
   "source": [
    "# View the result and compare to the true accuracy\n",
    "print('Test metric with budget of', budget,': ', results['tester_metric'])\n",
    "print('True accuracy of classifier: ', true_accuracy)"
   ]
  },
  {
   "cell_type": "markdown",
   "metadata": {},
   "source": [
    "## A Comparison of Query Strategies and Estimators\n",
    "\n",
    "Below, we compare a couple of query strategies and estimators."
   ]
  },
  {
   "cell_type": "code",
   "execution_count": 11,
   "metadata": {},
   "outputs": [
    {
     "name": "stdout",
     "output_type": "stream",
     "text": [
      "Beginning preprocessing to find vetted labels of each class...\n",
      "Completed preprocessing\n",
      "Budget reduced from \"100\" to \"98\"\n",
      "Beginning preprocessing to find vetted labels of each class...\n",
      "Completed preprocessing\n",
      "Budget reduced from \"200\" to \"198\"\n",
      "Beginning preprocessing to find vetted labels of each class...\n",
      "Completed preprocessing\n",
      "Budget reduced from \"300\" to \"298\"\n",
      "Beginning preprocessing to find vetted labels of each class...\n",
      "Completed preprocessing\n",
      "Budget reduced from \"400\" to \"398\"\n",
      "Beginning preprocessing to find vetted labels of each class...\n",
      "Completed preprocessing\n",
      "Budget reduced from \"500\" to \"498\"\n",
      "Beginning preprocessing to find vetted labels of each class...\n",
      "Completed preprocessing\n",
      "Budget reduced from \"100\" to \"98\"\n",
      "Beginning preprocessing to find vetted labels of each class...\n",
      "Completed preprocessing\n",
      "Budget reduced from \"200\" to \"198\"\n",
      "Beginning preprocessing to find vetted labels of each class...\n",
      "Completed preprocessing\n",
      "Budget reduced from \"300\" to \"298\"\n",
      "Beginning preprocessing to find vetted labels of each class...\n",
      "Completed preprocessing\n",
      "Budget reduced from \"400\" to \"398\"\n",
      "Beginning preprocessing to find vetted labels of each class...\n",
      "Completed preprocessing\n",
      "Budget reduced from \"500\" to \"498\"\n",
      "Beginning preprocessing to find vetted labels of each class...\n",
      "Completed preprocessing\n",
      "Budget reduced from \"100\" to \"98\"\n",
      "Beginning preprocessing to find vetted labels of each class...\n",
      "Completed preprocessing\n",
      "Budget reduced from \"200\" to \"198\"\n",
      "Beginning preprocessing to find vetted labels of each class...\n",
      "Completed preprocessing\n",
      "Budget reduced from \"300\" to \"298\"\n",
      "Beginning preprocessing to find vetted labels of each class...\n",
      "Completed preprocessing\n",
      "Budget reduced from \"400\" to \"398\"\n",
      "Beginning preprocessing to find vetted labels of each class...\n",
      "Completed preprocessing\n",
      "Budget reduced from \"500\" to \"498\"\n",
      "Beginning preprocessing to find vetted labels of each class...\n",
      "Completed preprocessing\n",
      "Budget reduced from \"100\" to \"98\"\n",
      "Beginning preprocessing to find vetted labels of each class...\n",
      "Completed preprocessing\n",
      "Budget reduced from \"200\" to \"198\"\n",
      "Beginning preprocessing to find vetted labels of each class...\n",
      "Completed preprocessing\n",
      "Budget reduced from \"300\" to \"298\"\n",
      "Beginning preprocessing to find vetted labels of each class...\n",
      "Completed preprocessing\n",
      "Budget reduced from \"400\" to \"398\"\n",
      "Beginning preprocessing to find vetted labels of each class...\n",
      "Completed preprocessing\n",
      "Budget reduced from \"500\" to \"498\"\n",
      "Beginning preprocessing to find vetted labels of each class...\n",
      "Completed preprocessing\n",
      "Budget reduced from \"100\" to \"98\"\n",
      "Beginning preprocessing to find vetted labels of each class...\n",
      "Completed preprocessing\n",
      "Budget reduced from \"200\" to \"198\"\n",
      "Beginning preprocessing to find vetted labels of each class...\n",
      "Completed preprocessing\n",
      "Budget reduced from \"300\" to \"298\"\n",
      "Beginning preprocessing to find vetted labels of each class...\n",
      "Completed preprocessing\n",
      "Budget reduced from \"400\" to \"398\"\n",
      "Beginning preprocessing to find vetted labels of each class...\n",
      "Completed preprocessing\n",
      "Budget reduced from \"500\" to \"498\"\n",
      "Beginning preprocessing to find vetted labels of each class...\n",
      "Completed preprocessing\n",
      "Budget reduced from \"100\" to \"98\"\n",
      "Beginning preprocessing to find vetted labels of each class...\n",
      "Completed preprocessing\n",
      "Budget reduced from \"200\" to \"198\"\n",
      "Beginning preprocessing to find vetted labels of each class...\n",
      "Completed preprocessing\n",
      "Budget reduced from \"300\" to \"298\"\n",
      "Beginning preprocessing to find vetted labels of each class...\n",
      "Completed preprocessing\n",
      "Budget reduced from \"400\" to \"398\"\n",
      "Beginning preprocessing to find vetted labels of each class...\n",
      "Completed preprocessing\n",
      "Budget reduced from \"500\" to \"498\"\n"
     ]
    },
    {
     "data": {
      "image/png": "[encoded data removed]",
      "text/plain": [
       "<Figure size 432x288 with 1 Axes>"
      ]
     },
     "metadata": {
      "needs_background": "light"
     },
     "output_type": "display_data"
    }
   ],
   "source": [
    "import matplotlib.pyplot as plt\n",
    "\n",
    "abs_error_array = []\n",
    "\n",
    "# Initialize the estimators\n",
    "learned = Learned(metric=accuracy_score, estimation_method=oracle_multiple_labels)\n",
    "naive = Naive(metric=accuracy_score)\n",
    "estimator_list = {'Naive': naive, 'Learned': learned}\n",
    "\n",
    "# Initialize a few query strategies\n",
    "rand = Random()\n",
    "classifier_uncertainty = ClassifierUncertainty()\n",
    "mcm = MCM(estimation_method=oracle_multiple_labels)\n",
    "\n",
    "query_strategy_list = {'Random': rand, 'Classifier Uncertainty': classifier_uncertainty, \n",
    "                       'Most Common Mistake': mcm}\n",
    "\n",
    "# Run active testing for each estimator-query pair, for a range of sample sizes\n",
    "sample_sizes = [100, 200, 300, 400, 500]\n",
    "for est_k, est_v in estimator_list.items():\n",
    "    for query_k, query_v in query_strategy_list.items():\n",
    "        abs_error_array = []\n",
    "        for i in sample_sizes:\n",
    "\n",
    "            at = ActiveTester(est_v, query_v)\n",
    "\n",
    "            #Set dataset and model values in the active tester object\n",
    "            at.standardize_data(X=X, \n",
    "                                classes=sent_data.target_names, \n",
    "                                Y_ground_truth=Y_ground_truth, \n",
    "                                Y_noisy=Y_noisy)\n",
    "            at.gen_model_predictions(clf)\n",
    "            at.query_vetted(False, i)\n",
    "            at.test()\n",
    "\n",
    "            results = at.get_test_results()\n",
    "            abs_error_array.append(np.abs(results['tester_metric'] - true_accuracy))\n",
    "\n",
    "        plt.ylabel(\"Absolute Error\")\n",
    "        plt.xlabel(\"Number Vetted\")\n",
    "\n",
    "        plt.plot(sample_sizes, abs_error_array, label=est_k + '+' + query_k)\n",
    "        plt.legend(loc='best')\n",
    "        plt.title('Absolute Error vs Number Vetted')\n",
    "        plt.grid(True)\n",
    "\n",
    "plt.show()"
   ]
  },
  {
   "cell_type": "markdown",
   "metadata": {},
   "source": [
    "As you can see from the graph, the absolute error for the learned estimation method is smaller than for the naive method.  There is not a large difference between the different query strategies."
   ]
  },
  {
   "cell_type": "code",
   "execution_count": null,
   "metadata": {},
   "outputs": [],
   "source": []
  }
 ],
 "metadata": {
  "kernelspec": {
   "display_name": "Python 3",
   "language": "python",
   "name": "python3"
  },
  "language_info": {
   "codemirror_mode": {
    "name": "ipython",
    "version": 3
   },
   "file_extension": ".py",
   "mimetype": "text/x-python",
   "name": "python",
   "nbconvert_exporter": "python",
   "pygments_lexer": "ipython3",
   "version": "3.7.4"
  }
 },
 "nbformat": 4,
 "nbformat_minor": 2
}
